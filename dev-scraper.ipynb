{
 "cells": [
  {
   "cell_type": "code",
   "execution_count": 31,
   "metadata": {},
   "outputs": [],
   "source": [
    "import time\n",
    "import random\n",
    "from selenium import webdriver\n",
    "from selenium.webdriver.common.by import By\n",
    "from selenium.webdriver.support.ui import WebDriverWait\n",
    "from selenium.webdriver.support import expected_conditions as EC\n",
    "from selenium.common.exceptions import TimeoutException\n",
    "from selenium.webdriver.common.action_chains import ActionChains\n",
    "from PIL import Image\n",
    "%matplotlib inline\n",
    "import matplotlib.pyplot as plt\n",
    "from matplotlib.patches import Polygon\n",
    "import requests\n",
    "from array import array\n",
    "import os\n",
    "import sys\n",
    "import time\n",
    "from io import BytesIO\n",
    "import json"
   ]
  },
  {
   "cell_type": "code",
   "execution_count": 9,
   "metadata": {},
   "outputs": [],
   "source": [
    "option = webdriver.ChromeOptions()\n",
    "option.add_argument(\"-incognito\")\n",
    "#option.add_experimental_option(\"excludeSwitches\", ['enable-automation']);\n",
    "#option.add_argument(\"--headless\")\n",
    "#option.add_argument(\"disable-gpu\");\n",
    "browser = webdriver.Chrome(executable_path=r'/home/srujandeshpande/chromedriver', options=option)"
   ]
  },
  {
   "cell_type": "code",
   "execution_count": 10,
   "metadata": {},
   "outputs": [],
   "source": [
    "subscription_key = os.environ['OCR_SUBSCRIPTION_KEY']\n",
    "endpoint = os.environ['OCR_ENDPOINT']"
   ]
  },
  {
   "cell_type": "code",
   "execution_count": 33,
   "metadata": {},
   "outputs": [],
   "source": [
    "browser.get(\"https://vahan.nic.in/nrservices/faces/user/searchstatus.xhtml\")"
   ]
  },
  {
   "cell_type": "code",
   "execution_count": 34,
   "metadata": {},
   "outputs": [],
   "source": [
    "browser.save_screenshot(\"image.png\") \n",
    " \n",
    "image = Image.open(\"image.png\") \n",
    " \n",
    "#image.show() "
   ]
  },
  {
   "cell_type": "code",
   "execution_count": 35,
   "metadata": {},
   "outputs": [
    {
     "name": "stdout",
     "output_type": "stream",
     "text": [
      "{'x': 766, 'y': 217} {'height': 30, 'width': 150}\n"
     ]
    }
   ],
   "source": [
    "e = browser.find_element_by_xpath('//*[@id=\"capatcha\"]/img')\n",
    "\n",
    "location = dict(e.location)\n",
    "size = dict(e.size)\n",
    "print(location,size)"
   ]
  },
  {
   "cell_type": "code",
   "execution_count": 36,
   "metadata": {},
   "outputs": [],
   "source": [
    "im = Image.open(\"image.png\") \n",
    "\n",
    "# Size of the image in pixels (size of orginal image) \n",
    "# (This is not mandatory) \n",
    "width, height = im.size \n",
    "  \n",
    "# Setting the points for cropped image \n",
    "left = location['x']\n",
    "top = location['y']-10\n",
    "right = location['x']+size['width']\n",
    "bottom = location['y']+size['height']+10\n",
    "  \n",
    "# Cropped image of above dimension \n",
    "# (It will not change orginal image) \n",
    "im1 = im.crop((left, top, right, bottom)) \n",
    "  \n",
    "# Shows the image in image viewer \n",
    "im1.show() \n",
    "im1.save(\"cropped.png\")"
   ]
  },
  {
   "cell_type": "code",
   "execution_count": 37,
   "metadata": {},
   "outputs": [],
   "source": [
    "ocr_url = endpoint + \"vision/v3.0/read/analyze\"\n",
    "\n",
    "image_data = open(\"cropped.png\", \"rb\").read()\n",
    "\n",
    "headers = {'Ocp-Apim-Subscription-Key': subscription_key, 'Content-Type': 'application/octet-stream'}\n",
    "\n",
    "params = {'language': 'en'}\n",
    "\n",
    "response = requests.post(ocr_url, headers=headers, params=params, data=image_data)\n",
    "\n",
    "response.raise_for_status()\n",
    "\n",
    "#response.json()"
   ]
  },
  {
   "cell_type": "code",
   "execution_count": 38,
   "metadata": {},
   "outputs": [],
   "source": [
    "result = dict()\n",
    "\n",
    "analysis = {}\n",
    "poll = True\n",
    "while (poll):\n",
    "    response_final = requests.get(\n",
    "        response.headers[\"Operation-Location\"], headers=headers)\n",
    "    analysis = response_final.json()\n",
    "    \n",
    "    result = json.dumps(analysis, indent=4)\n",
    "\n",
    "    time.sleep(1)\n",
    "    if (\"analyzeResult\" in analysis):\n",
    "        poll = False\n",
    "    if (\"status\" in analysis and analysis['status'] == 'failed'):\n",
    "        poll = False\n"
   ]
  },
  {
   "cell_type": "code",
   "execution_count": 39,
   "metadata": {},
   "outputs": [
    {
     "data": {
      "image/png": "[encoded data removed]",
      "text/plain": [
       "<Figure size 432x288 with 1 Axes>"
      ]
     },
     "metadata": {
      "needs_background": "light"
     },
     "output_type": "display_data"
    }
   ],
   "source": [
    "polygons = []\n",
    "if (\"analyzeResult\" in analysis):\n",
    "    # Extract the recognized text, with bounding boxes.\n",
    "    polygons = [(line[\"boundingBox\"], line[\"text\"])\n",
    "                for line in analysis[\"analyzeResult\"][\"readResults\"][0][\"lines\"]]\n",
    "\n",
    "# Display the image and overlay it with the extracted text.\n",
    "image = Image.open(\"cropped.png\")\n",
    "ax = plt.imshow(image)\n",
    "for polygon in polygons:\n",
    "    vertices = [(polygon[0][i], polygon[0][i+1])\n",
    "                for i in range(0, len(polygon[0]), 2)]\n",
    "    text = polygon[1]\n",
    "    patch = Polygon(vertices, closed=True, fill=False, linewidth=2, color='y')\n",
    "    ax.axes.add_patch(patch)\n",
    "    plt.text(vertices[0][0], vertices[0][1], text, fontsize=20, va=\"top\")\n",
    "plt.show()"
   ]
  }
 ],
 "metadata": {
  "kernelspec": {
   "display_name": "Python 3",
   "language": "python",
   "name": "python3"
  },
  "language_info": {
   "codemirror_mode": {
    "name": "ipython",
    "version": 3
   },
   "file_extension": ".py",
   "mimetype": "text/x-python",
   "name": "python",
   "nbconvert_exporter": "python",
   "pygments_lexer": "ipython3",
   "version": "3.7.6"
  }
 },
 "nbformat": 4,
 "nbformat_minor": 4
}
