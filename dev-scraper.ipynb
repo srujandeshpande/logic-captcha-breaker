{
 "cells": [
  {
   "cell_type": "code",
   "execution_count": null,
   "metadata": {},
   "outputs": [],
   "source": [
    "import time\n",
    "import random\n",
    "from selenium import webdriver\n",
    "from selenium.webdriver.common.by import By\n",
    "from selenium.webdriver.support.ui import WebDriverWait\n",
    "from selenium.webdriver.support import expected_conditions as EC\n",
    "from selenium.common.exceptions import TimeoutException\n",
    "from selenium.webdriver.common.action_chains import ActionChains\n",
    "from PIL import Image\n",
    "import requests\n",
    "import os"
   ]
  },
  {
   "cell_type": "code",
   "execution_count": null,
   "metadata": {},
   "outputs": [],
   "source": [
    "option = webdriver.ChromeOptions()\n",
    "option.add_argument(\"-incognito\")\n",
    "option.add_argument(\"--headless\")\n",
    "option.add_argument(\"disable-gpu\");\n",
    "# Replace the path in the following line with the path for your chromedrive\n",
    "browser = webdriver.Chrome(executable_path=r'/home/srujandeshpande/chromedriver', options=option)"
   ]
  },
  {
   "cell_type": "code",
   "execution_count": null,
   "metadata": {},
   "outputs": [],
   "source": [
    "subscription_key = os.environ['OCR_SUBSCRIPTION_KEY']\n",
    "endpoint = os.environ['OCR_ENDPOINT']"
   ]
  },
  {
   "cell_type": "code",
   "execution_count": null,
   "metadata": {},
   "outputs": [],
   "source": [
    "# Replace the URL with whichever website you are targeting. Further changes need to be made at certain places to account for different websites.\n",
    "# UPDATE: This code was originally written for Vahan which has since migrated to a different captcha system. The current code is unlikely to work and is untested on the updated site.\n",
    "browser.get(\"https://vahan.nic.in/nrservices/faces/user/searchstatus.xhtml\")"
   ]
  },
  {
   "cell_type": "code",
   "execution_count": null,
   "metadata": {},
   "outputs": [],
   "source": [
    "browser.save_screenshot(\"image.png\") "
   ]
  },
  {
   "cell_type": "code",
   "execution_count": null,
   "metadata": {},
   "outputs": [],
   "source": [
    "# Replace with XPATH of the captcha\n",
    "e = browser.find_element_by_xpath('//*[@id=\"capatcha\"]/img')\n",
    "\n",
    "location = dict(e.location)\n",
    "size = dict(e.size)\n",
    "print(location,size)"
   ]
  },
  {
   "cell_type": "code",
   "execution_count": null,
   "metadata": {},
   "outputs": [],
   "source": [
    "im = Image.open(\"image.png\") \n",
    "  \n",
    "# Setting the points for cropped image \n",
    "left = location['x']\n",
    "top = location['y']-10\n",
    "right = location['x']+size['width']\n",
    "bottom = location['y']+size['height']+10\n",
    "  \n",
    "# Cropped image of above dimensions \n",
    "im1 = im.crop((left, top, right, bottom)) \n",
    "im1.save(\"cropped.png\")"
   ]
  },
  {
   "cell_type": "code",
   "execution_count": null,
   "metadata": {},
   "outputs": [],
   "source": [
    "ocr_url = endpoint + \"vision/v3.0/read/analyze\"\n",
    "\n",
    "image_data = open(\"cropped.png\", \"rb\").read()\n",
    "\n",
    "headers = {'Ocp-Apim-Subscription-Key': subscription_key, 'Content-Type': 'application/octet-stream'}\n",
    "params = {'language': 'en'}\n",
    "\n",
    "response = requests.post(ocr_url, headers=headers, params=params, data=image_data)\n",
    "\n",
    "response.raise_for_status()"
   ]
  },
  {
   "cell_type": "code",
   "execution_count": null,
   "metadata": {},
   "outputs": [],
   "source": [
    "result = dict()\n",
    "\n",
    "analysis = {}\n",
    "poll = True\n",
    "while (poll):\n",
    "    response_final = requests.get(\n",
    "        response.headers[\"Operation-Location\"], headers=headers)\n",
    "    analysis = response_final.json()\n",
    "    \n",
    "    result = json.dumps(analysis, indent=2)\n",
    "\n",
    "    time.sleep(1)\n",
    "    if (\"analyzeResult\" in analysis):\n",
    "        poll = False\n",
    "    if (\"status\" in analysis and analysis['status'] == 'failed'):\n",
    "        poll = False\n",
    "\n",
    "print(result)"
   ]
  },
  {
   "cell_type": "code",
   "execution_count": null,
   "metadata": {},
   "outputs": [],
   "source": [
    "text = analysis['analyzeResult']['readResults'][0]['lines'][0]['text']\n",
    "\n",
    "words = text.split()\n",
    "\n",
    "answer = \"\"\n",
    "\n",
    "if words[0]=='Greater':\n",
    "    num1 = words[2][:-1]\n",
    "    num2 = words[3]\n",
    "    \n",
    "    answer = num1 if num1 > num2 else num2\n",
    "elif words[0]=='Smallest':\n",
    "    num1 = words[2][:-1]\n",
    "    num2 = words[3]\n",
    "    \n",
    "    answer = num1 if num1 < num2 else num2\n",
    "elif words[1]=='+':\n",
    "    num1 = int(words[0])\n",
    "    num2 = int(words[2])\n",
    "\n",
    "    answer = num1 + num2  \n",
    "elif words[1]=='-':\n",
    "    num1 = int(words[0])\n",
    "    num2 = int(words[2])\n",
    "\n",
    "    answer = num1 - num2  \n",
    "elif words[1]=='*':\n",
    "    num1 = int(words[0])\n",
    "    num2 = int(words[2])\n",
    "\n",
    "    answer = num1 * num2  \n",
    "elif words[1]=='/':\n",
    "    num1 = int(words[0])\n",
    "    num2 = int(words[2])\n",
    "\n",
    "    answer = num1 / num2  \n",
    "answer = str(answer)\n",
    "print(f\"{text}: {answer}\")"
   ]
  },
  {
   "cell_type": "code",
   "execution_count": null,
   "metadata": {},
   "outputs": [],
   "source": [
    "vehicle_number = browser.find_element_by_xpath('//*[@id=\"regn_no1_exact\"]')\n",
    "answer_field = browser.find_element_by_xpath('//*[@id=\"txt_ALPHA_NUMERIC\"]')\n",
    "enter = browser.find_element_by_xpath('//*[@id=\"j_idt25\"]/span')\n",
    "\n",
    "vehicle_number.send_keys('CKN8941')\n",
    "answer_field.send_keys(answer)\n",
    "enter.click()"
   ]
  }
 ],
 "metadata": {
  "kernelspec": {
   "display_name": "Python 3",
   "language": "python",
   "name": "python3"
  },
  "language_info": {
   "codemirror_mode": {
    "name": "ipython",
    "version": 3
   },
   "file_extension": ".py",
   "mimetype": "text/x-python",
   "name": "python",
   "nbconvert_exporter": "python",
   "pygments_lexer": "ipython3",
   "version": "3.7.6"
  }
 },
 "nbformat": 4,
 "nbformat_minor": 4
}