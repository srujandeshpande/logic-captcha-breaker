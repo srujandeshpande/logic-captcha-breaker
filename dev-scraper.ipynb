{
 "cells": [
  {
   "cell_type": "code",
   "execution_count": 75,
   "metadata": {},
   "outputs": [],
   "source": [
    "import time\n",
    "import random\n",
    "from selenium import webdriver\n",
    "from selenium.webdriver.common.by import By\n",
    "from selenium.webdriver.support.ui import WebDriverWait\n",
    "from selenium.webdriver.support import expected_conditions as EC\n",
    "from selenium.common.exceptions import TimeoutException\n",
    "from selenium.webdriver.common.action_chains import ActionChains\n",
    "from PIL import Image\n",
    "import requests"
   ]
  },
  {
   "cell_type": "code",
   "execution_count": 76,
   "metadata": {},
   "outputs": [],
   "source": [
    "option = webdriver.ChromeOptions()\n",
    "option.add_argument(\"-incognito\")\n",
    "browser = webdriver.Chrome(executable_path=r'/home/srujandeshpande/chromedriver', options=option)"
   ]
  },
  {
   "cell_type": "code",
   "execution_count": 42,
   "metadata": {},
   "outputs": [],
   "source": [
    "subscription_key = os.environ['OCR_SUBSCRIPTION_KEY']\n",
    "endpoint = os.environ['OCR_ENDPOINT']"
   ]
  },
  {
   "cell_type": "code",
   "execution_count": 85,
   "metadata": {},
   "outputs": [],
   "source": [
    "browser.get(\"https://vahan.nic.in/nrservices/faces/user/searchstatus.xhtml\")"
   ]
  },
  {
   "cell_type": "code",
   "execution_count": 86,
   "metadata": {},
   "outputs": [
    {
     "data": {
      "text/plain": [
       "True"
      ]
     },
     "execution_count": 86,
     "metadata": {},
     "output_type": "execute_result"
    }
   ],
   "source": [
    "browser.save_screenshot(\"image.png\") "
   ]
  },
  {
   "cell_type": "code",
   "execution_count": 87,
   "metadata": {},
   "outputs": [
    {
     "name": "stdout",
     "output_type": "stream",
     "text": [
      "{'x': 766, 'y': 217} {'height': 30, 'width': 150}\n"
     ]
    }
   ],
   "source": [
    "e = browser.find_element_by_xpath('//*[@id=\"capatcha\"]/img')\n",
    "\n",
    "location = dict(e.location)\n",
    "size = dict(e.size)\n",
    "print(location,size)"
   ]
  },
  {
   "cell_type": "code",
   "execution_count": 88,
   "metadata": {},
   "outputs": [],
   "source": [
    "im = Image.open(\"image.png\") \n",
    "  \n",
    "# Setting the points for cropped image \n",
    "left = location['x']\n",
    "top = location['y']-10\n",
    "right = location['x']+size['width']\n",
    "bottom = location['y']+size['height']+10\n",
    "  \n",
    "# Cropped image of above dimensions \n",
    "im1 = im.crop((left, top, right, bottom)) \n",
    "im1.save(\"cropped.png\")"
   ]
  },
  {
   "cell_type": "code",
   "execution_count": 89,
   "metadata": {},
   "outputs": [],
   "source": [
    "ocr_url = endpoint + \"vision/v3.0/read/analyze\"\n",
    "\n",
    "image_data = open(\"cropped.png\", \"rb\").read()\n",
    "\n",
    "headers = {'Ocp-Apim-Subscription-Key': subscription_key, 'Content-Type': 'application/octet-stream'}\n",
    "params = {'language': 'en'}\n",
    "\n",
    "response = requests.post(ocr_url, headers=headers, params=params, data=image_data)\n",
    "\n",
    "response.raise_for_status()"
   ]
  },
  {
   "cell_type": "code",
   "execution_count": 90,
   "metadata": {},
   "outputs": [
    {
     "name": "stdout",
     "output_type": "stream",
     "text": [
      "{\n",
      "  \"status\": \"succeeded\",\n",
      "  \"createdDateTime\": \"2020-09-21T18:02:44Z\",\n",
      "  \"lastUpdatedDateTime\": \"2020-09-21T18:02:44Z\",\n",
      "  \"analyzeResult\": {\n",
      "    \"version\": \"3.0.0\",\n",
      "    \"readResults\": [\n",
      "      {\n",
      "        \"page\": 1,\n",
      "        \"language\": \"en\",\n",
      "        \"angle\": 0,\n",
      "        \"width\": 150,\n",
      "        \"height\": 50,\n",
      "        \"unit\": \"pixel\",\n",
      "        \"lines\": [\n",
      "          {\n",
      "            \"boundingBox\": [\n",
      "              8,\n",
      "              18,\n",
      "              136,\n",
      "              18,\n",
      "              136,\n",
      "              32,\n",
      "              8,\n",
      "              32\n",
      "            ],\n",
      "            \"text\": \"Greater No 3, 2\",\n",
      "            \"words\": [\n",
      "              {\n",
      "                \"boundingBox\": [\n",
      "                  8,\n",
      "                  20,\n",
      "                  67,\n",
      "                  20,\n",
      "                  67,\n",
      "                  32,\n",
      "                  8,\n",
      "                  32\n",
      "                ],\n",
      "                \"text\": \"Greater\",\n",
      "                \"confidence\": 0.984\n",
      "              },\n",
      "              {\n",
      "                \"boundingBox\": [\n",
      "                  69,\n",
      "                  20,\n",
      "                  92,\n",
      "                  19,\n",
      "                  92,\n",
      "                  32,\n",
      "                  69,\n",
      "                  32\n",
      "                ],\n",
      "                \"text\": \"No\",\n",
      "                \"confidence\": 0.987\n",
      "              },\n",
      "              {\n",
      "                \"boundingBox\": [\n",
      "                  101,\n",
      "                  19,\n",
      "                  123,\n",
      "                  19,\n",
      "                  123,\n",
      "                  32,\n",
      "                  101,\n",
      "                  32\n",
      "                ],\n",
      "                \"text\": \"3,\",\n",
      "                \"confidence\": 0.969\n",
      "              },\n",
      "              {\n",
      "                \"boundingBox\": [\n",
      "                  125,\n",
      "                  19,\n",
      "                  136,\n",
      "                  19,\n",
      "                  136,\n",
      "                  33,\n",
      "                  126,\n",
      "                  32\n",
      "                ],\n",
      "                \"text\": \"2\",\n",
      "                \"confidence\": 0.987\n",
      "              }\n",
      "            ]\n",
      "          }\n",
      "        ]\n",
      "      }\n",
      "    ]\n",
      "  }\n",
      "}\n"
     ]
    }
   ],
   "source": [
    "result = dict()\n",
    "\n",
    "analysis = {}\n",
    "poll = True\n",
    "while (poll):\n",
    "    response_final = requests.get(\n",
    "        response.headers[\"Operation-Location\"], headers=headers)\n",
    "    analysis = response_final.json()\n",
    "    \n",
    "    result = json.dumps(analysis, indent=2)\n",
    "\n",
    "    time.sleep(1)\n",
    "    if (\"analyzeResult\" in analysis):\n",
    "        poll = False\n",
    "    if (\"status\" in analysis and analysis['status'] == 'failed'):\n",
    "        poll = False\n",
    "\n",
    "print(result)"
   ]
  },
  {
   "cell_type": "code",
   "execution_count": 93,
   "metadata": {},
   "outputs": [
    {
     "name": "stdout",
     "output_type": "stream",
     "text": [
      "Greater No 3, 2: 3\n"
     ]
    }
   ],
   "source": [
    "text = analysis['analyzeResult']['readResults'][0]['lines'][0]['text']\n",
    "\n",
    "words = text.split()\n",
    "\n",
    "answer = \"\"\n",
    "\n",
    "if words[0]=='Greater':\n",
    "    num1 = words[2][:-1]\n",
    "    num2 = words[3]\n",
    "    \n",
    "    answer = num1 if num1 > num2 else num2\n",
    "elif words[0]=='Smallest':\n",
    "    num1 = words[2][:-1]\n",
    "    num2 = words[3]\n",
    "    \n",
    "    answer = num1 if num1 < num2 else num2\n",
    "elif words[1]=='+':\n",
    "    num1 = int(words[0])\n",
    "    num2 = int(words[2])\n",
    "\n",
    "    answer = num1 + num2  \n",
    "elif words[1]=='-':\n",
    "    num1 = int(words[0])\n",
    "    num2 = int(words[2])\n",
    "\n",
    "    answer = num1 - num2  \n",
    "elif words[1]=='*':\n",
    "    num1 = int(words[0])\n",
    "    num2 = int(words[2])\n",
    "\n",
    "    answer = num1 * num2  \n",
    "elif words[1]=='/':\n",
    "    num1 = int(words[0])\n",
    "    num2 = int(words[2])\n",
    "\n",
    "    answer = num1 / num2  \n",
    "answer = str(answer)\n",
    "print(f\"{text}: {answer}\")"
   ]
  }
 ],
 "metadata": {
  "kernelspec": {
   "display_name": "Python 3",
   "language": "python",
   "name": "python3"
  },
  "language_info": {
   "codemirror_mode": {
    "name": "ipython",
    "version": 3
   },
   "file_extension": ".py",
   "mimetype": "text/x-python",
   "name": "python",
   "nbconvert_exporter": "python",
   "pygments_lexer": "ipython3",
   "version": "3.7.6"
  }
 },
 "nbformat": 4,
 "nbformat_minor": 4
}
